{
 "cells": [
  {
   "cell_type": "code",
   "execution_count": 8,
   "id": "3cba2b7b",
   "metadata": {},
   "outputs": [
    {
     "name": "stdout",
     "output_type": "stream",
     "text": [
      "current day :  Tuesday\n",
      "I am in the daily rooms\n",
      "[[103, 111, 115, 117, 118, 132, 142, 146], [203, 209, 210, 217, 223, 224, 227, 323]]\n"
     ]
    }
   ],
   "source": [
    "import openpyxl\n",
    "import datetime\n",
    "current_date = datetime.datetime.now()\n",
    "# Get the day of the week as an integer (Monday = 0, Sunday = 6)\n",
    "day_of_week = current_date.weekday()\n",
    "weekday_names = [\"Monday\", \"Tuesday\", \"Wednesday\", \"Thursday\", \"Friday\", \"Saturday\", \"Sunday\"]\n",
    "current_day = weekday_names[day_of_week]\n",
    "print(\"current day : \", current_day)\n",
    "excel_file_path = \"Rooms_availability.xlsx\"\n",
    "workbook = openpyxl.load_workbook(excel_file_path)\n",
    "sheet_name = 'Sheet1'\n",
    "kings_rooms_columns = ['A','B','C','D','E','F','G','H','I']\n",
    "sheet = workbook[sheet_name]\n",
    "daily_rooms=[]\n",
    "weekly_rooms=[]\n",
    "for room_Type in kings_rooms_columns:\n",
    "    column = sheet[room_Type]\n",
    "    for cell in column:\n",
    "        cell_value = cell.value\n",
    "        cell_color = cell.fill.fgColor.rgb if cell.fill else None\n",
    "        #print(f\"Cell Value: {cell_value}, Cell Color: {cell_color}\")\n",
    "        if cell_value != None and cell_color == 'FF92D050' or cell_color == 'FF00B0F0':\n",
    "            daily_rooms.append(cell_value)\n",
    "        if cell_value != None and cell_color == 'FFFFFF00':\n",
    "            words = cell_value.split()\n",
    "            k=int(words[1])\n",
    "            weekly_rooms.append(k)\n",
    "# print(daily_rooms)\n",
    "# print(weekly_rooms)\n",
    "\n",
    "workbook.close()\n",
    "\n",
    "division(daily_rooms, weekly_rooms, day_of_week)\n",
    "# FF92D050--green;  00000000 -- no color; FFFF0000 -- red; FF00B0F0 -- sky blue FFFFFF00 -- yellow "
   ]
  },
  {
   "cell_type": "code",
   "execution_count": 2,
   "id": "96a311e5",
   "metadata": {},
   "outputs": [],
   "source": [
    "def division(daily_rooms, weekly_rooms, day_of_week):\n",
    "    daily = []\n",
    "    weekly = []\n",
    "    \n",
    "    if day_of_week in (1,2,4):        # 2 maids and daily rooms only\n",
    "\n",
    "        daily = divide_into_two(daily_rooms)\n",
    "        \n",
    "        insert_into_maids_report_type_one(daily)\n",
    "        \n",
    "    elif day_of_week in (0,3):       # 3 maids and both daily and weekly rooms also\n",
    "        \n",
    "        daily = divide_into_three(daily_rooms)\n",
    "        weekly = divide_into_three(weekly_rooms)\n",
    "        \n",
    "        insert_into_maids_report_type_two(daily, weekly)\n",
    "        \n",
    "    elif day_of_week in (5,6):       # 3 maids and daily rooms only \n",
    "        \n",
    "        daily = divide_into_three(daily_rooms)\n",
    "        \n",
    "        insert_into_maids_report_type_one(daily)\n",
    "        \n",
    "#     print(daily)\n",
    "#     print(weekly)"
   ]
  },
  {
   "cell_type": "code",
   "execution_count": 3,
   "id": "1ebb826c",
   "metadata": {},
   "outputs": [],
   "source": [
    "def divide_into_two(arr):\n",
    "    m=len(arr)//2\n",
    "    arr.sort()\n",
    "    arr1 = arr[:m]\n",
    "    arr2 = arr[m:]\n",
    "    return [arr1, arr2]"
   ]
  },
  {
   "cell_type": "code",
   "execution_count": 4,
   "id": "3762e2d6",
   "metadata": {},
   "outputs": [],
   "source": [
    "def divide_into_three(arr):\n",
    "    divisor = 0\n",
    "    length = len(arr)\n",
    "    if length%3 == 1:\n",
    "        divisor = length//3\n",
    "    elif length%3 == 2:\n",
    "        divisor = length//3 + 1\n",
    "    else:\n",
    "        divisor = length//3\n",
    "    arr.sort()\n",
    "    arr1 = arr[:divisor]\n",
    "    arr2 = arr[divisor:2*divisor]\n",
    "    arr3 = arr[2*divisor:]\n",
    "    return [arr1, arr2, arr3]"
   ]
  },
  {
   "cell_type": "code",
   "execution_count": 7,
   "id": "90698ae5",
   "metadata": {},
   "outputs": [],
   "source": [
    "# \"C:\\Users\\ramni\\Downloads\\KINGSLEY INN\\Maids_list\"\n",
    "\n",
    "def insert_into_maids_report_type_one(Daily_rooms):\n",
    "    print(\"I am in the daily rooms\")\n",
    "    print(Daily_rooms)\n",
    "    directory_path = \"C://Users//ramni//Downloads//KINGSLEY INN//Maids_list//\"\n",
    "    m=1\n",
    "    for rooms in Daily_rooms:\n",
    "        workbook = openpyxl.load_workbook('Maids_report.xlsx')\n",
    "        file_name = \"Maids_report\" +str(m)\n",
    "        m+=1\n",
    "        sheet = workbook['Sheet1']\n",
    "        start_cell = 'A4'\n",
    "        num_rows = len(rooms)\n",
    "        for i in range(num_rows):\n",
    "            sheet[start_cell].offset(row=i, column=0).value = rooms[i]\n",
    "        workbook.save(directory_path + file_name + \".xlsx\")\n",
    "        \n",
    "def insert_into_maids_report_type_two(daily_rooms, weekly_rooms):\n",
    "    print(\"I am in the weekly rooms \")\n",
    "    directory_path = \"C://Users//ramni//Downloads//KINGSLEY INN//Maids_list//\"\n",
    "    m=1\n",
    "    print(daily_rooms, weekly_rooms)\n",
    "    for rooms1, rooms2 in zip(daily_rooms, weekly_rooms):\n",
    "        \n",
    "        workbook = openpyxl.load_workbook('Maids_report_both_rooms.xlsx')\n",
    "        file_name = \"Maids_report\" +str(m)\n",
    "        m+=1\n",
    "        print(file_name)\n",
    "        sheet = workbook['Sheet1']\n",
    "        start_cell_daily = 'A4'\n",
    "        start_cell_weekly = 'A24'\n",
    "        \n",
    "        for i in range(len(rooms1)):\n",
    "            sheet[start_cell_daily].offset(row=i, column=0).value = rooms1[i]\n",
    "        for j in range(len(rooms2)):\n",
    "            sheet[start_cell_weekly].offset(row=j, column=0).value = rooms1[j]\n",
    "        workbook.save(directory_path + file_name + \".xlsx\")\n"
   ]
  },
  {
   "cell_type": "code",
   "execution_count": null,
   "id": "11001e92",
   "metadata": {},
   "outputs": [],
   "source": []
  }
 ],
 "metadata": {
  "kernelspec": {
   "display_name": "Python 3 (ipykernel)",
   "language": "python",
   "name": "python3"
  },
  "language_info": {
   "codemirror_mode": {
    "name": "ipython",
    "version": 3
   },
   "file_extension": ".py",
   "mimetype": "text/x-python",
   "name": "python",
   "nbconvert_exporter": "python",
   "pygments_lexer": "ipython3",
   "version": "3.9.13"
  }
 },
 "nbformat": 4,
 "nbformat_minor": 5
}
